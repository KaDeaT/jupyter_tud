{
  "nbformat": 4,
  "nbformat_minor": 0,
  "metadata": {
    "colab": {
      "name": "lection 5 rotate matrix.ipynb",
      "version": "0.3.2",
      "provenance": [],
      "collapsed_sections": [],
      "toc_visible": true,
      "include_colab_link": true
    },
    "kernelspec": {
      "display_name": "Python 3",
      "language": "python",
      "name": "python3"
    }
  },
  "cells": [
    {
      "cell_type": "markdown",
      "metadata": {
        "id": "view-in-github",
        "colab_type": "text"
      },
      "source": [
        "<a href=\"https://colab.research.google.com/github/KaDeaT/jupyter_tud/blob/master/lection_5_rotate_matrix.ipynb\" target=\"_parent\"><img src=\"https://colab.research.google.com/assets/colab-badge.svg\" alt=\"Open In Colab\"/></a>"
      ]
    },
    {
      "metadata": {
        "id": "KKkbL1945Uq6",
        "colab_type": "text"
      },
      "cell_type": "markdown",
      "source": [
        "# Линейные операторы"
      ]
    },
    {
      "metadata": {
        "id": "gOnvRclV5Uq8",
        "colab_type": "text"
      },
      "cell_type": "markdown",
      "source": [
        "**Линейным отображением** векторного пространства $\\mathbb{V}$ с операцией сложения векторов, обозначаемой $+$, в линейное векторное пространство $ \\mathbb{W}$ с операцией сложения векторов, обозначаемой $\\boxplus$, называется функция (соответствие)\n",
        "$$\\mathcal A : \\mathbb{V} \\longmapsto \\mathbb{W}$$\n",
        "(т.е. определенная на $\\mathbb{V}$, имеющая значения в $\\mathbb{W})$, обладающая свойством линейности. Другими словами верно:\n",
        "$$\\mathcal A (X_1 +X_2) = \\mathcal A (X_1) \\boxplus \\mathcal A (X_2),$$\n",
        "$$\\mathcal A (\\alpha_1 X_1) = \\alpha_1 \\mathcal A (X_1).$$\n",
        "\n",
        "\n",
        "\n",
        "Линейное отображение векторного пространства $\\mathbb V$ в себя\n",
        "$$\\mathcal A : \\mathbb V \\longmapsto \\mathbb V$$\n",
        "называется линейным преобразованием $\\mathbb V$ или **линейным оператором** на $\\mathbb V$.\n"
      ]
    },
    {
      "metadata": {
        "id": "szaGoB9U5Uq-",
        "colab_type": "text"
      },
      "cell_type": "markdown",
      "source": [
        "Рассмотрим оператор $\\mathcal A $ на $\\mathbb{V}$ и пусть $\\{X_1,\\dots,X_n\\}$ — базис $\\mathbb{V}$.\n",
        "\n",
        "Найдем координаты образов базисных векторов $\\mathcal A (X_1),\\dots, \\mathcal A (X_n)$ в том же базисе $\\{X_1,\\dots,X_n\\}$:\n",
        "\n",
        "$$\n",
        "\\left\\{ \\begin{array}{ccc}\n",
        " \\mathcal A (X_1) & = & \\alpha_{11}X_1 + \\alpha_{21}X_2 + \\dots + \\alpha_{n1}X_n, \\\\\n",
        " \\mathcal A (X_2) & = & \\alpha_{12}X_1 + \\alpha_{22}X_2 + \\dots + \\alpha_{n2}X_n, \\\\ \\dots & & \\qquad \\dots , \\\\\n",
        "\\mathcal A (X_n)& = & \\alpha_{1n}X_1 + \\alpha_{2n}X_2 + \\dots + \\alpha_{nn}X_n. \\end{array} \\right.\n",
        "$$\n",
        "\n",
        "Матрица\n",
        "$$ A = \\left(\n",
        "\\begin{array}{cccc}\n",
        " \\alpha_{11} & \\alpha_{12} & \\dots & \\alpha_{1n} \\\\\n",
        " \\alpha_{21} & \\alpha_{22} & \\dots & \\alpha_{2n} \\\\\n",
        " \\dots & & & \\dots \\\\\n",
        " \\alpha_{n1} & \\alpha_{n2}& \\dots & \\alpha_{nn}\n",
        " \\end{array}\n",
        " \\right)_{n\\times n},\n",
        "$$\n",
        "\n",
        "в столбцах которой стоят координаты образов базисных векторов, называется матрицей оператора $\\mathcal A $ в базисе $\\{X_1,\\dots,X_n\\}$.\n",
        "\n",
        "Если $A$ матрица линейного оператора $\\mathcal A $, то $\\mathcal A (x) = Ax$."
      ]
    },
    {
      "metadata": {
        "id": "1WrU-Z0c5UrA",
        "colab_type": "text"
      },
      "cell_type": "markdown",
      "source": [
        "## Примеры линейных операторов"
      ]
    },
    {
      "metadata": {
        "id": "OLDBXlh-5UrC",
        "colab_type": "text"
      },
      "cell_type": "markdown",
      "source": [
        "### Оператор поворота вектора на угол"
      ]
    },
    {
      "metadata": {
        "id": "M6LyZ0hH5UrD",
        "colab_type": "text"
      },
      "cell_type": "markdown",
      "source": [
        "Матрица оператора имеет вид:\n",
        "\n",
        "$$ A =\\left(\\begin{array}{cc}\n",
        " \\cos(\\phi) & -\\sin(\\phi) \\\\\n",
        " \\sin(\\phi) & \\cos(\\phi)\n",
        " \\end{array}\n",
        " \\right)\n",
        "$$\n",
        "\n",
        "Для $\\phi = \\frac{\\pi}{6}$ \n",
        "$$ A = \\left(\\begin{array}{cc}\n",
        " \\frac{1}{2} & -\\frac{\\sqrt{3}}{2} \\\\\n",
        " \\frac{\\sqrt{3}}{2} & \\frac{1}{2}\n",
        " \\end{array}\n",
        " \\right)$$ \n",
        "\n",
        "Вектор\n",
        "$$x_1 = \\left(\\begin{array}{c}\n",
        " 1 \\\\\n",
        " 0 \n",
        " \\end{array}\n",
        " \\right)$$ \n",
        " \n",
        " под воздействием оператора поворота перейдёт в вектор:\n",
        " $$ A x_1 = \\left(\\begin{array}{cc}\n",
        " \\frac{1}{2} & -\\frac{\\sqrt{3}}{2} \\\\\n",
        " \\frac{\\sqrt{3}}{2} & \\frac{1}{2}\n",
        " \\end{array}\n",
        " \\right) \\left(\\begin{array}{c}\n",
        " 1 \\\\\n",
        " 0 \n",
        " \\end{array}\n",
        " \\right) = \\left(\\begin{array}{c}\n",
        " \\frac{1}{2}\\\\\n",
        " -\\frac{\\sqrt{3}}{2} \n",
        " \\end{array}\n",
        " \\right)$$ "
      ]
    },
    {
      "metadata": {
        "id": "op6yMtjY5UrF",
        "colab_type": "code",
        "colab": {}
      },
      "cell_type": "code",
      "source": [
        "import matplotlib.pyplot as plt\n",
        "import numpy as np\n",
        "import math\n",
        "from ipywidgets import interact\n",
        "\n",
        "def f(phi=30):\n",
        "    x = np.array([1, 0])\n",
        "    phi = math.radians(phi)\n",
        "    A = np.array([[np.cos(phi),-np.sin(phi)], [ np.sin(phi), np.cos(phi)]])\n",
        "    temp = A*x\n",
        "    plt.quiver(0,0, *x, scale = 1, units='xy', color='blue')\n",
        "    plt.quiver(0,0, *temp, scale = 1,units='xy', color='red')\n",
        "    plt.axis('equal')\n",
        "    plt.xticks(range(-2,3))\n",
        "    plt.yticks(range(-2,3))\n",
        "    plt.grid()\n",
        "    plt.draw()\n",
        "    plt.show()\n",
        "\n",
        "# interact(f, phi=(0,360,10))"
      ],
      "execution_count": 0,
      "outputs": []
    },
    {
      "metadata": {
        "id": "6Mllgp6V5UrO",
        "colab_type": "code",
        "outputId": "de5afd04-17dd-486d-cd0a-c2d958e74e81",
        "colab": {
          "base_uri": "https://localhost:8080/",
          "height": 352
        }
      },
      "cell_type": "code",
      "source": [
        "number_slider = 30 #@param {type:\"slider\", min:10, max:360, step:10}\n",
        "f(number_slider)"
      ],
      "execution_count": 0,
      "outputs": [
        {
          "output_type": "display_data",
          "data": {
            "text/plain": [
              "<Figure size 432x288 with 1 Axes>"
            ],
            "image/svg+xml": "<?xml version=\"1.0\" encoding=\"utf-8\" standalone=\"no\"?>\n<!DOCTYPE svg PUBLIC \"-//W3C//DTD SVG 1.1//EN\"\n  \"http://www.w3.org/Graphics/SVG/1.1/DTD/svg11.dtd\">\n<!-- Created with matplotlib (https://matplotlib.org/) -->\n<svg height=\"248.161875pt\" version=\"1.1\" viewBox=\"0 0 370.382031 248.161875\" width=\"370.382031pt\" xmlns=\"http://www.w3.org/2000/svg\" xmlns:xlink=\"http://www.w3.org/1999/xlink\">\n <defs>\n  <style type=\"text/css\">\n*{stroke-linecap:butt;stroke-linejoin:round;}\n  </style>\n </defs>\n <g id=\"figure_1\">\n  <g id=\"patch_1\">\n   <path d=\"M -0 248.161875 \nL 370.382031 248.161875 \nL 370.382031 0 \nL -0 0 \nz\n\" style=\"fill:none;\"/>\n  </g>\n  <g id=\"axes_1\">\n   <g id=\"patch_2\">\n    <path d=\"M 25.601562 224.64 \nL 360.401563 224.64 \nL 360.401563 7.2 \nL 25.601562 7.2 \nz\n\" style=\"fill:#eaeaf2;\"/>\n   </g>\n   <g id=\"matplotlib.axis_1\">\n    <g id=\"xtick_1\">\n     <g id=\"line2d_1\"/>\n     <g id=\"text_1\">\n      <!-- −2 -->\n      <defs>\n       <path d=\"M 4.9375 29.6875 \nL 4.9375 36.8125 \nL 53.515625 36.8125 \nL 53.515625 29.6875 \nz\n\" id=\"LiberationSans-8722\"/>\n       <path d=\"M 5.03125 0 \nL 5.03125 6.203125 \nQ 7.515625 11.921875 11.109375 16.28125 \nQ 14.703125 20.65625 18.65625 24.1875 \nQ 22.609375 27.734375 26.484375 30.765625 \nQ 30.375 33.796875 33.5 36.8125 \nQ 36.625 39.84375 38.546875 43.15625 \nQ 40.484375 46.484375 40.484375 50.6875 \nQ 40.484375 53.609375 39.59375 55.828125 \nQ 38.71875 58.0625 37.0625 59.5625 \nQ 35.40625 61.078125 33.078125 61.828125 \nQ 30.765625 62.59375 27.9375 62.59375 \nQ 25.296875 62.59375 22.96875 61.859375 \nQ 20.65625 61.140625 18.84375 59.671875 \nQ 17.046875 58.203125 15.890625 56.03125 \nQ 14.75 53.859375 14.40625 50.984375 \nL 5.421875 51.8125 \nQ 5.859375 55.515625 7.46875 58.78125 \nQ 9.078125 62.0625 11.90625 64.53125 \nQ 14.75 67 18.71875 68.40625 \nQ 22.703125 69.828125 27.9375 69.828125 \nQ 33.0625 69.828125 37.0625 68.609375 \nQ 41.0625 67.390625 43.8125 64.984375 \nQ 46.578125 62.59375 48.046875 59.078125 \nQ 49.515625 55.5625 49.515625 50.984375 \nQ 49.515625 47.515625 48.265625 44.390625 \nQ 47.015625 41.265625 44.9375 38.421875 \nQ 42.875 35.59375 40.140625 32.953125 \nQ 37.40625 30.328125 34.421875 27.8125 \nQ 31.453125 25.296875 28.421875 22.828125 \nQ 25.390625 20.359375 22.71875 17.859375 \nQ 20.0625 15.375 17.96875 12.8125 \nQ 15.875 10.25 14.703125 7.46875 \nL 50.59375 7.46875 \nL 50.59375 0 \nz\n\" id=\"LiberationSans-50\"/>\n      </defs>\n      <g style=\"fill:#262626;\" transform=\"translate(19.900781 238.886875)scale(0.1 -0.1)\">\n       <use xlink:href=\"#LiberationSans-8722\"/>\n       <use x=\"58.398438\" xlink:href=\"#LiberationSans-50\"/>\n      </g>\n     </g>\n    </g>\n    <g id=\"xtick_2\">\n     <g id=\"line2d_2\"/>\n     <g id=\"text_2\">\n      <!-- −1 -->\n      <defs>\n       <path d=\"M 7.625 0 \nL 7.625 7.46875 \nL 25.140625 7.46875 \nL 25.140625 60.40625 \nL 9.625 49.3125 \nL 9.625 57.625 \nL 25.875 68.796875 \nL 33.984375 68.796875 \nL 33.984375 7.46875 \nL 50.734375 7.46875 \nL 50.734375 0 \nz\n\" id=\"LiberationSans-49\"/>\n      </defs>\n      <g style=\"fill:#262626;\" transform=\"translate(103.600781 238.886875)scale(0.1 -0.1)\">\n       <use xlink:href=\"#LiberationSans-8722\"/>\n       <use x=\"58.398438\" xlink:href=\"#LiberationSans-49\"/>\n      </g>\n     </g>\n    </g>\n    <g id=\"xtick_3\">\n     <g id=\"line2d_3\"/>\n     <g id=\"text_3\">\n      <!-- 0 -->\n      <defs>\n       <path d=\"M 51.703125 34.421875 \nQ 51.703125 24.515625 49.828125 17.75 \nQ 47.953125 10.984375 44.703125 6.8125 \nQ 41.453125 2.640625 37.0625 0.828125 \nQ 32.671875 -0.984375 27.6875 -0.984375 \nQ 22.65625 -0.984375 18.3125 0.828125 \nQ 13.96875 2.640625 10.765625 6.78125 \nQ 7.5625 10.9375 5.734375 17.703125 \nQ 3.90625 24.46875 3.90625 34.421875 \nQ 3.90625 44.828125 5.734375 51.640625 \nQ 7.5625 58.453125 10.78125 62.5 \nQ 14.015625 66.546875 18.40625 68.1875 \nQ 22.796875 69.828125 27.984375 69.828125 \nQ 32.90625 69.828125 37.21875 68.1875 \nQ 41.546875 66.546875 44.765625 62.5 \nQ 48 58.453125 49.84375 51.640625 \nQ 51.703125 44.828125 51.703125 34.421875 \nz\nM 42.78125 34.421875 \nQ 42.78125 42.625 41.796875 48.0625 \nQ 40.828125 53.515625 38.921875 56.765625 \nQ 37.015625 60.015625 34.25 61.359375 \nQ 31.5 62.703125 27.984375 62.703125 \nQ 24.265625 62.703125 21.4375 61.328125 \nQ 18.609375 59.96875 16.671875 56.71875 \nQ 14.75 53.46875 13.765625 48.015625 \nQ 12.796875 42.578125 12.796875 34.421875 \nQ 12.796875 26.515625 13.796875 21.09375 \nQ 14.796875 15.671875 16.71875 12.375 \nQ 18.65625 9.078125 21.4375 7.640625 \nQ 24.21875 6.203125 27.78125 6.203125 \nQ 31.25 6.203125 34.03125 7.640625 \nQ 36.8125 9.078125 38.734375 12.375 \nQ 40.671875 15.671875 41.71875 21.09375 \nQ 42.78125 26.515625 42.78125 34.421875 \nz\n\" id=\"LiberationSans-48\"/>\n      </defs>\n      <g style=\"fill:#262626;\" transform=\"translate(190.221094 238.886875)scale(0.1 -0.1)\">\n       <use xlink:href=\"#LiberationSans-48\"/>\n      </g>\n     </g>\n    </g>\n    <g id=\"xtick_4\">\n     <g id=\"line2d_4\"/>\n     <g id=\"text_4\">\n      <!-- 1 -->\n      <g style=\"fill:#262626;\" transform=\"translate(273.921094 238.886875)scale(0.1 -0.1)\">\n       <use xlink:href=\"#LiberationSans-49\"/>\n      </g>\n     </g>\n    </g>\n    <g id=\"xtick_5\">\n     <g id=\"line2d_5\"/>\n     <g id=\"text_5\">\n      <!-- 2 -->\n      <g style=\"fill:#262626;\" transform=\"translate(357.621094 238.886875)scale(0.1 -0.1)\">\n       <use xlink:href=\"#LiberationSans-50\"/>\n      </g>\n     </g>\n    </g>\n   </g>\n   <g id=\"matplotlib.axis_2\">\n    <g id=\"ytick_1\">\n     <g id=\"line2d_6\"/>\n     <g id=\"text_6\">\n      <!-- −1 -->\n      <g style=\"fill:#262626;\" transform=\"translate(7.2 203.243437)scale(0.1 -0.1)\">\n       <use xlink:href=\"#LiberationSans-8722\"/>\n       <use x=\"58.398438\" xlink:href=\"#LiberationSans-49\"/>\n      </g>\n     </g>\n    </g>\n    <g id=\"ytick_2\">\n     <g id=\"line2d_7\"/>\n     <g id=\"text_7\">\n      <!-- 0 -->\n      <g style=\"fill:#262626;\" transform=\"translate(13.040625 119.543437)scale(0.1 -0.1)\">\n       <use xlink:href=\"#LiberationSans-48\"/>\n      </g>\n     </g>\n    </g>\n    <g id=\"ytick_3\">\n     <g id=\"line2d_8\"/>\n     <g id=\"text_8\">\n      <!-- 1 -->\n      <g style=\"fill:#262626;\" transform=\"translate(13.040625 35.843437)scale(0.1 -0.1)\">\n       <use xlink:href=\"#LiberationSans-49\"/>\n      </g>\n     </g>\n    </g>\n   </g>\n   <g id=\"Quiver_1\">\n    <path clip-path=\"url(#p532858b774)\" d=\"M 193.001563 114.6645 \nL 265.402062 114.6645 \nL 264.146563 112.1535 \nL 276.701563 115.92 \nL 264.146563 119.6865 \nL 265.402062 117.1755 \nL 193.001563 117.1755 \nL 193.001563 114.6645 \n\" style=\"fill:#0000ff;\"/>\n   </g>\n   <g id=\"Quiver_2\">\n    <path clip-path=\"url(#p532858b774)\" d=\"M 192.373813 114.832705 \nL 255.074485 78.632455 \nL 252.73169 77.085615 \nL 265.487889 74.07 \nL 256.49819 83.609385 \nL 256.329985 80.807045 \nL 193.629312 117.007295 \nL 192.373813 114.832705 \n\" style=\"fill:#ff0000;\"/>\n    <path clip-path=\"url(#p532858b774)\" d=\"M 194.257063 115.92 \nL 193.629312 114.832705 \nL 192.373813 114.832705 \nL 191.746062 115.92 \nL 192.373813 117.007295 \nL 193.629312 117.007295 \nL 194.257063 115.92 \nL 193.629312 114.832705 \n\" style=\"fill:#ff0000;\"/>\n   </g>\n   <g id=\"patch_3\">\n    <path d=\"M 25.601562 224.64 \nL 25.601562 7.2 \n\" style=\"fill:none;\"/>\n   </g>\n   <g id=\"patch_4\">\n    <path d=\"M 360.401563 224.64 \nL 360.401563 7.2 \n\" style=\"fill:none;\"/>\n   </g>\n   <g id=\"patch_5\">\n    <path d=\"M 25.601562 224.64 \nL 360.401563 224.64 \n\" style=\"fill:none;\"/>\n   </g>\n   <g id=\"patch_6\">\n    <path d=\"M 25.601562 7.2 \nL 360.401563 7.2 \n\" style=\"fill:none;\"/>\n   </g>\n  </g>\n </g>\n <defs>\n  <clipPath id=\"p532858b774\">\n   <rect height=\"217.44\" width=\"334.8\" x=\"25.601562\" y=\"7.2\"/>\n  </clipPath>\n </defs>\n</svg>\n"
          },
          "metadata": {
            "tags": []
          }
        }
      ]
    }
  ]
}