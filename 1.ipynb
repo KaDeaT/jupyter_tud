{
 "cells": [
  {
   "cell_type": "markdown",
   "metadata": {},
   "source": [
    "# Линейные операторы"
   ]
  },
  {
   "cell_type": "markdown",
   "metadata": {},
   "source": [
    "**Линейным отображением** векторного пространства $\\mathbb{V}$ с операцией сложения векторов, обозначаемой $+$, в линейное векторное пространство $ \\mathbb{W}$ с операцией сложения векторов, обозначаемой $\\boxplus$, называется функция (соответствие)\n",
    "$$\\mathcal A : \\mathbb{V} \\longmapsto \\mathbb{W}$$\n",
    "(т.е. определенная на $\\mathbb{V}$, имеющая значения в $\\mathbb{W})$, обладающая свойством линейности. Другими словами верно:\n",
    "$$\\mathcal A (X_1 +X_2) = \\mathcal A (X_1) \\boxplus \\mathcal A (X_2),$$\n",
    "$$\\mathcal A (\\alpha_1 X_1) = \\alpha_1 \\mathcal A (X_1).$$\n",
    "\n",
    "\n",
    "\n",
    "Линейное отображение векторного пространства $\\mathbb V$ в себя\n",
    "$$\\mathcal A : \\mathbb V \\longmapsto \\mathbb V$$\n",
    "называется линейным преобразованием $\\mathbb V$ или **линейным оператором** на $\\mathbb V$.\n"
   ]
  },
  {
   "cell_type": "markdown",
   "metadata": {},
   "source": [
    "Рассмотрим оператор $\\mathcal A $ на $\\mathbb{V}$ и пусть $\\{X_1,\\dots,X_n\\}$ — базис $\\mathbb{V}$.\n",
    "\n",
    "Найдем координаты образов базисных векторов $\\mathcal A (X_1),\\dots, \\mathcal A (X_n)$ в том же базисе $\\{X_1,\\dots,X_n\\}$:\n",
    "\n",
    "$$\n",
    "\\left\\{ \\begin{array}{ccc}\n",
    " \\mathcal A (X_1) & = & \\alpha_{11}X_1 + \\alpha_{21}X_2 + \\dots + \\alpha_{n1}X_n, \\\\\n",
    " \\mathcal A (X_2) & = & \\alpha_{12}X_1 + \\alpha_{22}X_2 + \\dots + \\alpha_{n2}X_n, \\\\ \\dots & & \\qquad \\dots , \\\\\n",
    "\\mathcal A (X_n)& = & \\alpha_{1n}X_1 + \\alpha_{2n}X_2 + \\dots + \\alpha_{nn}X_n. \\end{array} \\right.\n",
    "$$\n",
    "\n",
    "Матрица\n",
    "$$ A = \\left(\n",
    "\\begin{array}{cccc}\n",
    " \\alpha_{11} & \\alpha_{12} & \\dots & \\alpha_{1n} \\\\\n",
    " \\alpha_{21} & \\alpha_{22} & \\dots & \\alpha_{2n} \\\\\n",
    " \\dots & & & \\dots \\\\\n",
    " \\alpha_{n1} & \\alpha_{n2}& \\dots & \\alpha_{nn}\n",
    " \\end{array}\n",
    " \\right)_{n\\times n},\n",
    "$$\n",
    "\n",
    "в столбцах которой стоят координаты образов базисных векторов, называется матрицей оператора $\\mathcal A $ в базисе $\\{X_1,\\dots,X_n\\}$.\n",
    "\n",
    "Если $A$ матрица линейного оператора $\\mathcal A $, то $\\mathcal A (x) = Ax$."
   ]
  },
  {
   "cell_type": "markdown",
   "metadata": {},
   "source": [
    "## Примеры линейных операторов"
   ]
  },
  {
   "cell_type": "markdown",
   "metadata": {},
   "source": [
    "### Оператор поворота вектора на угол"
   ]
  },
  {
   "cell_type": "markdown",
   "metadata": {},
   "source": [
    "Матрица оператора имеет вид:\n",
    "\n",
    "$$ A =\\left(\\begin{array}{cc}\n",
    " \\cos(\\phi) & -\\sin(\\phi) \\\\\n",
    " \\sin(\\phi) & \\cos(\\phi)\n",
    " \\end{array}\n",
    " \\right)\n",
    "$$\n",
    "\n",
    "Для $\\phi = \\frac{\\pi}{6}$ \n",
    "$$ A = \\left(\\begin{array}{cc}\n",
    " \\frac{1}{2} & -\\frac{\\sqrt{3}}{2} \\\\\n",
    " \\frac{\\sqrt{3}}{2} & \\frac{1}{2}\n",
    " \\end{array}\n",
    " \\right)$$ \n",
    "\n",
    "Вектор\n",
    "$$x_1 = \\left(\\begin{array}{c}\n",
    " 1 \\\\\n",
    " 0 \n",
    " \\end{array}\n",
    " \\right)$$ \n",
    " \n",
    " под воздействием оператора поворота перейдёт в вектор:\n",
    " $$ A x_1 = \\left(\\begin{array}{cc}\n",
    " \\frac{1}{2} & -\\frac{\\sqrt{3}}{2} \\\\\n",
    " \\frac{\\sqrt{3}}{2} & \\frac{1}{2}\n",
    " \\end{array}\n",
    " \\right) \\left(\\begin{array}{c}\n",
    " 1 \\\\\n",
    " 0 \n",
    " \\end{array}\n",
    " \\right) = \\left(\\begin{array}{c}\n",
    " \\frac{1}{2}\\\\\n",
    " -\\frac{\\sqrt{3}}{2} \n",
    " \\end{array}\n",
    " \\right)$$ "
   ]
  },
  {
   "cell_type": "code",
   "execution_count": 4,
   "metadata": {},
   "outputs": [
    {
     "data": {
      "application/vnd.jupyter.widget-view+json": {
       "model_id": "edee6a2b35be4603b031806952bec585",
       "version_major": 2,
       "version_minor": 0
      },
      "text/plain": [
       "interactive(children=(IntSlider(value=30, description='phi', max=360, step=10), Output()), _dom_classes=('widg…"
      ]
     },
     "metadata": {},
     "output_type": "display_data"
    },
    {
     "data": {
      "text/plain": [
       "<function __main__.f(phi=30)>"
      ]
     },
     "execution_count": 4,
     "metadata": {},
     "output_type": "execute_result"
    }
   ],
   "source": [
    "import matplotlib.pyplot as plt\n",
    "%matplotlib inline\n",
    "%config InlineBackend.figure_format = 'svg'\n",
    "import numpy as np\n",
    "import math\n",
    "from ipywidgets import interact\n",
    "\n",
    "def f(phi=30):\n",
    "    x = np.array([1, 0])\n",
    "    phi = math.radians(phi)\n",
    "    A = np.array([[np.cos(phi),-np.sin(phi)], [ np.sin(phi), np.cos(phi)]])\n",
    "    temp = A*x\n",
    "    plt.quiver(0,0, *x, scale = 1, units='xy', color='blue')\n",
    "    plt.quiver(0,0, *temp, scale = 1,units='xy', color='red')\n",
    "    plt.axis('equal')\n",
    "    plt.xticks(range(-2,3))\n",
    "    plt.yticks(range(-2,3))\n",
    "    plt.draw()\n",
    "    plt.grid()\n",
    "    plt.show()\n",
    "\n",
    "interact(f, phi=(0,360,10))"
   ]
  },
  {
   "cell_type": "code",
   "execution_count": null,
   "metadata": {},
   "outputs": [],
   "source": []
  }
 ],
 "metadata": {
  "kernelspec": {
   "display_name": "Python 3",
   "language": "python",
   "name": "python3"
  },
  "language_info": {
   "codemirror_mode": {
    "name": "ipython",
    "version": 3
   },
   "file_extension": ".py",
   "mimetype": "text/x-python",
   "name": "python",
   "nbconvert_exporter": "python",
   "pygments_lexer": "ipython3",
   "version": "3.7.2"
  }
 },
 "nbformat": 4,
 "nbformat_minor": 2
}
